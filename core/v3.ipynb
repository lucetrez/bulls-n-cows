{
 "cells": [
  {
   "cell_type": "code",
   "execution_count": 4,
   "metadata": {},
   "outputs": [
    {
     "name": "stdout",
     "output_type": "stream",
     "text": [
      "\n",
      "💬 {'54': (1, 0)}\n",
      "🎯 ['04', '14', '24', '34', '50', '51', '52', '53', '56', '57', '58', '59', '64', '74', '84', '94']\n",
      "🎲 4.00B - 1.54B | 3.09P ('04')\n",
      "[('3.09P', {'04', '64', '50', '56', '57', '58', '84', '51', '59', '74', '94', '52', '14', '24', '34', '53'}), ('3.22P', {'46', '65', '41', '49', '15', '85', '35', '05', '95', '75', '40', '42', '43', '25', '48', '47'}), ('3.33P', {'37', '16', '07', '70', '72', '01', '89', '32', '82', '27', '02', '30', '06', '03', '23', '92', '98', '28', '68', '61', '93', '81', '20', '69', '86', '31', '18', '60', '96', '26', '67', '21', '10', '39', '62', '87', '29', '97', '79', '17', '63', '09', '73', '38', '78', '76', '71', '91', '83', '90', '80', '12', '19', '08', '36', '13'}), ('3.55P', {'45', '54'})]\n",
      "\n",
      "💬 {'54': (1, 0), '12': (0, 1)}\n",
      "🎯 ['24', '51']\n",
      "🎲 1.00B - 1.00B | 2.87P ('24')\n",
      "[('2.87P', {'51', '24'}), ('3.73P', {'46', '16', '65', '49', '72', '64', '01', '32', '82', '75', '27', '74', '02', '23', '34', '48', '04', '92', '28', '15', '61', '50', '35', '56', '85', '81', '20', '59', '94', '95', '31', '18', '26', '10', '47', '53', '62', '29', '58', '05', '84', '17', '52', '43', '71', '41', '91', '57', '19', '40', '42', '25', '14', '13'}), ('4.00P', {'37', '07', '70', '89', '30', '06', '03', '98', '68', '93', '69', '45', '86', '96', '60', '67', '21', '39', '87', '97', '79', '63', '09', '73', '38', '78', '76', '83', '90', '80', '12', '08', '36', '54'})]\n",
      "\n",
      "💬 {'54': (1, 0), '12': (0, 1), '24': (2, 0)}\n",
      "🎯 ['24']\n"
     ]
    }
   ],
   "source": [
    "game = BullsNCows(digits=2)\n",
    "C = len(game.originals)\n",
    "C, _, _ = guess_based_on_score(originals=game.originals, org_idx_map=game.org_idx_map, guesses=game.guesses, guess='54', bulls_n_cows=(1, 0), digits=2, candidate_entropy=safe_log2(C), verbose=True)\n",
    "C, _, _ = guess_based_on_score(originals=game.originals, org_idx_map=game.org_idx_map, guesses=game.guesses, guess='12', bulls_n_cows=(0, 1), digits=2, candidate_entropy=safe_log2(C), verbose=True)\n",
    "C, _, _ = guess_based_on_score(originals=game.originals, org_idx_map=game.org_idx_map, guesses=game.guesses, guess='24', bulls_n_cows=(2, 0), digits=2, candidate_entropy=safe_log2(C), verbose=True)"
   ]
  },
  {
   "cell_type": "code",
   "execution_count": 5,
   "metadata": {},
   "outputs": [
    {
     "name": "stdout",
     "output_type": "stream",
     "text": [
      "\n",
      "💬 {'54': (1, 0)}\n",
      "🎯 ['04', '14', '24', '34', '50', '51', '52', '53', '56', '57', '58', '59', '64', '74', '84', '94']\n",
      "🎲 4.00B - 1.54B | 3.09P ('04')\n",
      "[('0.00B', {'45', '54'}), ('1.06B', {'37', '16', '07', '70', '72', '01', '89', '32', '82', '27', '02', '30', '06', '03', '23', '92', '98', '28', '68', '61', '93', '81', '20', '69', '86', '31', '18', '60', '96', '26', '67', '21', '10', '39', '62', '87', '29', '97', '79', '17', '63', '09', '73', '38', '78', '76', '71', '91', '83', '90', '80', '12', '19', '08', '36', '13'}), ('1.54B', {'46', '65', '49', '64', '75', '74', '48', '34', '04', '15', '50', '35', '56', '85', '94', '51', '59', '95', '47', '53', '58', '05', '84', '25', '52', '43', '57', '40', '42', '41', '14', '24'})]\n",
      "\n",
      "💬 {'54': (1, 0), '12': (0, 1)}\n",
      "🎯 ['24', '51']\n",
      "🎲 1.00B - 1.00B | 3.73P ('01')\n",
      "[('0.00B', {'37', '07', '70', '89', '30', '06', '03', '98', '68', '93', '69', '45', '86', '96', '60', '67', '21', '39', '87', '97', '79', '63', '09', '73', '38', '78', '76', '83', '90', '80', '12', '08', '36', '54'}), ('1.00B', {'46', '16', '65', '49', '72', '64', '01', '32', '82', '75', '27', '74', '02', '23', '34', '48', '04', '92', '28', '15', '61', '50', '35', '56', '85', '81', '20', '51', '59', '94', '95', '31', '18', '26', '10', '47', '53', '62', '29', '58', '05', '84', '17', '52', '43', '71', '41', '91', '57', '19', '40', '42', '25', '14', '24', '13'})]\n",
      "\n",
      "💬 {'54': (1, 0), '12': (0, 1), '24': (2, 0)}\n",
      "🎯 ['24']\n"
     ]
    }
   ],
   "source": [
    "game = BullsNCows(digits=2)\n",
    "C = len(game.originals)\n",
    "C, _, _ = guess_based_on_entropy(originals=game.originals, org_idx_map=game.org_idx_map, guesses=game.guesses, guess='54', bulls_n_cows=(1, 0), digits=2, candidate_entropy=safe_log2(C), verbose=True)\n",
    "C, _, _ = guess_based_on_entropy(originals=game.originals, org_idx_map=game.org_idx_map, guesses=game.guesses, guess='12', bulls_n_cows=(0, 1), digits=2, candidate_entropy=safe_log2(C), verbose=True)\n",
    "C, _, _ = guess_based_on_entropy(originals=game.originals, org_idx_map=game.org_idx_map, guesses=game.guesses, guess='24', bulls_n_cows=(2, 0), digits=2, candidate_entropy=safe_log2(C), verbose=True)"
   ]
  },
  {
   "cell_type": "code",
   "execution_count": 6,
   "metadata": {},
   "outputs": [
    {
     "name": "stdout",
     "output_type": "stream",
     "text": [
      "\n",
      "💬 {'54': (1, 0)}\n",
      "🎯 ['04', '14', '24', '34', '50', '51', '52', '53', '56', '57', '58', '59', '64', '74', '84', '94']\n",
      "🎲 4.00B - 1.54B | 3.09P ('51')\n",
      "[('0.00B', {'45', '54'}), ('1.06B', {'37', '16', '07', '70', '72', '01', '89', '32', '82', '27', '02', '30', '06', '03', '23', '92', '98', '28', '68', '61', '93', '81', '20', '69', '86', '31', '18', '60', '96', '26', '67', '21', '10', '39', '62', '87', '29', '97', '79', '17', '63', '09', '73', '38', '78', '76', '71', '91', '83', '90', '80', '12', '19', '08', '36', '13'}), ('1.54B', {'46', '65', '49', '64', '75', '74', '48', '34', '04', '15', '50', '35', '56', '85', '94', '51', '59', '95', '47', '53', '58', '05', '84', '25', '52', '43', '57', '40', '42', '41', '14', '24'})]\n",
      "\n",
      "💬 {'54': (1, 0), '12': (0, 1)}\n",
      "🎯 ['24', '51']\n",
      "🎲 1.00B - 1.00B | 2.87P ('24')\n",
      "[('0.00B', {'37', '07', '70', '89', '30', '06', '03', '98', '68', '93', '69', '45', '86', '96', '60', '67', '21', '39', '87', '97', '79', '63', '09', '73', '38', '78', '76', '83', '90', '80', '12', '08', '36', '54'}), ('1.00B', {'46', '16', '65', '49', '72', '64', '01', '32', '82', '75', '27', '74', '02', '23', '34', '48', '04', '92', '28', '15', '61', '50', '35', '56', '85', '81', '20', '51', '59', '94', '95', '31', '18', '26', '10', '47', '53', '62', '29', '58', '05', '84', '17', '52', '43', '71', '41', '91', '57', '19', '40', '42', '25', '14', '24', '13'})]\n",
      "\n",
      "💬 {'54': (1, 0), '12': (0, 1), '24': (2, 0)}\n",
      "🎯 ['24']\n"
     ]
    }
   ],
   "source": [
    "game = BullsNCows(digits=2)\n",
    "C = len(game.originals)\n",
    "C, _, _ = guess_based_on_candidates(originals=game.originals, org_idx_map=game.org_idx_map, guesses=game.guesses, guess='54', bulls_n_cows=(1, 0), digits=2, candidate_entropy=safe_log2(C), verbose=True)\n",
    "C, _, _ = guess_based_on_candidates(originals=game.originals, org_idx_map=game.org_idx_map, guesses=game.guesses, guess='12', bulls_n_cows=(0, 1), digits=2, candidate_entropy=safe_log2(C), verbose=True)\n",
    "C, _, _ = guess_based_on_candidates(originals=game.originals, org_idx_map=game.org_idx_map, guesses=game.guesses, guess='24', bulls_n_cows=(2, 0), digits=2, candidate_entropy=safe_log2(C), verbose=True)"
   ]
  },
  {
   "cell_type": "code",
   "execution_count": 7,
   "metadata": {},
   "outputs": [
    {
     "name": "stdout",
     "output_type": "stream",
     "text": [
      "5967\n"
     ]
    },
    {
     "data": {
      "text/html": [
       "<div>\n",
       "<style scoped>\n",
       "    .dataframe tbody tr th:only-of-type {\n",
       "        vertical-align: middle;\n",
       "    }\n",
       "\n",
       "    .dataframe tbody tr th {\n",
       "        vertical-align: top;\n",
       "    }\n",
       "\n",
       "    .dataframe thead th {\n",
       "        text-align: right;\n",
       "    }\n",
       "</style>\n",
       "<table border=\"1\" class=\"dataframe\">\n",
       "  <thead>\n",
       "    <tr style=\"text-align: right;\">\n",
       "      <th></th>\n",
       "      <th>guess</th>\n",
       "      <th>guess_result</th>\n",
       "      <th>candidate_count</th>\n",
       "      <th>candidate_entropy</th>\n",
       "      <th>guess_actual_entropy</th>\n",
       "      <th>best_guess_entropy</th>\n",
       "      <th>best_guess</th>\n",
       "    </tr>\n",
       "  </thead>\n",
       "  <tbody>\n",
       "    <tr>\n",
       "      <th>0</th>\n",
       "      <td></td>\n",
       "      <td></td>\n",
       "      <td>5040</td>\n",
       "      <td>12.299208</td>\n",
       "      <td>NaN</td>\n",
       "      <td>NaN</td>\n",
       "      <td>9413</td>\n",
       "    </tr>\n",
       "    <tr>\n",
       "      <th>1</th>\n",
       "      <td>9413</td>\n",
       "      <td>(0, 1)</td>\n",
       "      <td>1440</td>\n",
       "      <td>10.491853</td>\n",
       "      <td>1.807355</td>\n",
       "      <td>2.858865</td>\n",
       "      <td>0125</td>\n",
       "    </tr>\n",
       "    <tr>\n",
       "      <th>2</th>\n",
       "      <td>0125</td>\n",
       "      <td>(0, 1)</td>\n",
       "      <td>378</td>\n",
       "      <td>8.562242</td>\n",
       "      <td>1.929611</td>\n",
       "      <td>3.000803</td>\n",
       "      <td>6047</td>\n",
       "    </tr>\n",
       "    <tr>\n",
       "      <th>3</th>\n",
       "      <td>6047</td>\n",
       "      <td>(1, 1)</td>\n",
       "      <td>61</td>\n",
       "      <td>5.930737</td>\n",
       "      <td>2.631505</td>\n",
       "      <td>3.170939</td>\n",
       "      <td>6830</td>\n",
       "    </tr>\n",
       "    <tr>\n",
       "      <th>4</th>\n",
       "      <td>6830</td>\n",
       "      <td>(0, 1)</td>\n",
       "      <td>11</td>\n",
       "      <td>3.459432</td>\n",
       "      <td>2.471306</td>\n",
       "      <td>3.095795</td>\n",
       "      <td>7548</td>\n",
       "    </tr>\n",
       "    <tr>\n",
       "      <th>5</th>\n",
       "      <td>7548</td>\n",
       "      <td>(0, 2)</td>\n",
       "      <td>2</td>\n",
       "      <td>1.000000</td>\n",
       "      <td>2.459432</td>\n",
       "      <td>1.000000</td>\n",
       "      <td>5697</td>\n",
       "    </tr>\n",
       "    <tr>\n",
       "      <th>6</th>\n",
       "      <td>5697</td>\n",
       "      <td>(2, 2)</td>\n",
       "      <td>1</td>\n",
       "      <td>0.000000</td>\n",
       "      <td>1.000000</td>\n",
       "      <td>NaN</td>\n",
       "      <td>5967</td>\n",
       "    </tr>\n",
       "    <tr>\n",
       "      <th>7</th>\n",
       "      <td>5967</td>\n",
       "      <td>(4, 0)</td>\n",
       "      <td>1</td>\n",
       "      <td>0.000000</td>\n",
       "      <td>0.000000</td>\n",
       "      <td>NaN</td>\n",
       "      <td>5967</td>\n",
       "    </tr>\n",
       "  </tbody>\n",
       "</table>\n",
       "</div>"
      ],
      "text/plain": [
       "  guess guess_result  candidate_count  candidate_entropy  \\\n",
       "0                                5040          12.299208   \n",
       "1  9413       (0, 1)             1440          10.491853   \n",
       "2  0125       (0, 1)              378           8.562242   \n",
       "3  6047       (1, 1)               61           5.930737   \n",
       "4  6830       (0, 1)               11           3.459432   \n",
       "5  7548       (0, 2)                2           1.000000   \n",
       "6  5697       (2, 2)                1           0.000000   \n",
       "7  5967       (4, 0)                1           0.000000   \n",
       "\n",
       "   guess_actual_entropy  best_guess_entropy best_guess  \n",
       "0                   NaN                 NaN       9413  \n",
       "1              1.807355            2.858865       0125  \n",
       "2              1.929611            3.000803       6047  \n",
       "3              2.631505            3.170939       6830  \n",
       "4              2.471306            3.095795       7548  \n",
       "5              2.459432            1.000000       5697  \n",
       "6              1.000000                 NaN       5967  \n",
       "7              0.000000                 NaN       5967  "
      ]
     },
     "execution_count": 7,
     "metadata": {},
     "output_type": "execute_result"
    }
   ],
   "source": [
    "df = BullsNCows(digits=4, guess_algorithm=guess_based_on_score, verbose=False).play(); df"
   ]
  }
 ],
 "metadata": {
  "kernelspec": {
   "display_name": "Python 3",
   "language": "python",
   "name": "python3"
  },
  "language_info": {
   "codemirror_mode": {
    "name": "ipython",
    "version": 3
   },
   "file_extension": ".py",
   "mimetype": "text/x-python",
   "name": "python",
   "nbconvert_exporter": "python",
   "pygments_lexer": "ipython3",
   "version": "3.10.13"
  }
 },
 "nbformat": 4,
 "nbformat_minor": 2
}

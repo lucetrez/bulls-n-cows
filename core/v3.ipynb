{
 "cells": [
  {
   "cell_type": "code",
   "execution_count": 2,
   "metadata": {},
   "outputs": [],
   "source": [
    "from v0.game import BullsNCows\n",
    "from v0.tools import (\n",
    "    safe_log2,\n",
    "    guess_based_on_score,\n",
    "    guess_based_on_entropy,\n",
    "    guess_based_on_candidates,\n",
    ")"
   ]
  },
  {
   "cell_type": "code",
   "execution_count": 3,
   "metadata": {},
   "outputs": [
    {
     "name": "stdout",
     "output_type": "stream",
     "text": [
      "\n",
      "💬 {'54': (1, 0)}\n",
      "🎯 ['04', '14', '24', '34', '50', '51', '52', '53', '56', '57', '58', '59', '64', '74', '84', '94']\n",
      "🎲 4.00B - 1.54B | 3.09P ('04')\n",
      "[('3.09P', {'14', '34', '52', '04', '64', '51', '58', '50', '94', '84', '53', '59', '24', '74', '56', '57'}), ('3.22P', {'15', '48', '75', '41', '95', '42', '85', '40', '65', '35', '46', '47', '49', '43', '25', '05'}), ('3.33P', {'12', '17', '38', '61', '09', '21', '92', '13', '72', '98', '83', '19', '02', '10', '79', '39', '27', '26', '87', '08', '07', '78', '06', '29', '86', '68', '60', '71', '30', '91', '23', '63', '01', '62', '93', '03', '69', '28', '80', '18', '90', '20', '36', '82', '97', '70', '89', '96', '16', '37', '67', '31', '32', '73', '76', '81'}), ('3.55P', {'54', '45'})]\n",
      "\n",
      "💬 {'54': (1, 0), '12': (0, 1)}\n",
      "🎯 ['24', '51']\n",
      "🎲 1.00B - 1.00B | 2.87P ('24')\n",
      "[('2.87P', {'24', '51'}), ('3.73P', {'17', '41', '61', '92', '64', '13', '72', '19', '02', '10', '43', '27', '26', '48', '75', '29', '58', '49', '71', '57', '14', '91', '15', '23', '01', '62', '85', '52', '40', '65', '35', '50', '46', '84', '28', '59', '18', '20', '82', '95', '16', '31', '34', '42', '04', '32', '94', '47', '53', '25', '81', '74', '56', '05'}), ('4.00P', {'12', '38', '09', '21', '98', '83', '79', '39', '87', '08', '07', '78', '06', '86', '68', '60', '45', '30', '63', '54', '03', '69', '93', '80', '90', '97', '36', '70', '96', '37', '67', '73', '76', '89'})]\n",
      "\n",
      "💬 {'54': (1, 0), '12': (0, 1), '24': (2, 0)}\n",
      "🎯 ['24']\n"
     ]
    }
   ],
   "source": [
    "game = BullsNCows(digits=2)\n",
    "C = len(game.originals)\n",
    "C, _, _ = guess_based_on_score(originals=game.originals, org_idx_map=game.org_idx_map, guesses=game.guesses, guess='54', bulls_n_cows=(1, 0), digits=2, candidate_entropy=safe_log2(C), verbose=True)\n",
    "C, _, _ = guess_based_on_score(originals=game.originals, org_idx_map=game.org_idx_map, guesses=game.guesses, guess='12', bulls_n_cows=(0, 1), digits=2, candidate_entropy=safe_log2(C), verbose=True)\n",
    "C, _, _ = guess_based_on_score(originals=game.originals, org_idx_map=game.org_idx_map, guesses=game.guesses, guess='24', bulls_n_cows=(2, 0), digits=2, candidate_entropy=safe_log2(C), verbose=True)"
   ]
  },
  {
   "cell_type": "code",
   "execution_count": 4,
   "metadata": {},
   "outputs": [
    {
     "name": "stdout",
     "output_type": "stream",
     "text": [
      "\n",
      "💬 {'54': (1, 0)}\n",
      "🎯 ['04', '14', '24', '34', '50', '51', '52', '53', '56', '57', '58', '59', '64', '74', '84', '94']\n",
      "🎲 4.00B - 1.54B | 3.09P ('04')\n",
      "[('0.00B', {'54', '45'}), ('1.06B', {'12', '17', '38', '61', '09', '21', '92', '13', '72', '98', '83', '19', '02', '10', '79', '39', '27', '26', '87', '08', '07', '78', '06', '29', '86', '68', '60', '71', '30', '91', '23', '63', '01', '62', '93', '03', '69', '28', '80', '18', '90', '20', '36', '82', '97', '70', '89', '96', '16', '37', '67', '31', '32', '73', '76', '81'}), ('1.54B', {'41', '64', '43', '24', '48', '75', '51', '58', '49', '57', '14', '15', '85', '52', '40', '65', '35', '50', '46', '84', '59', '95', '34', '42', '04', '94', '47', '53', '25', '74', '56', '05'})]\n",
      "\n",
      "💬 {'54': (1, 0), '12': (0, 1)}\n",
      "🎯 ['24', '51']\n",
      "🎲 1.00B - 1.00B | 3.73P ('01')\n",
      "[('0.00B', {'12', '38', '09', '21', '98', '83', '79', '39', '87', '08', '07', '78', '06', '86', '68', '60', '45', '30', '63', '54', '03', '69', '93', '80', '90', '97', '36', '70', '96', '37', '67', '73', '76', '89'}), ('1.00B', {'17', '41', '61', '92', '64', '13', '72', '19', '02', '10', '43', '24', '27', '26', '48', '75', '29', '51', '58', '49', '71', '57', '14', '91', '15', '23', '01', '62', '85', '52', '40', '65', '35', '50', '46', '84', '28', '59', '18', '20', '82', '95', '16', '31', '34', '42', '04', '32', '94', '47', '53', '25', '81', '74', '56', '05'})]\n",
      "\n",
      "💬 {'54': (1, 0), '12': (0, 1), '24': (2, 0)}\n",
      "🎯 ['24']\n"
     ]
    }
   ],
   "source": [
    "game = BullsNCows(digits=2)\n",
    "C = len(game.originals)\n",
    "C, _, _ = guess_based_on_entropy(originals=game.originals, org_idx_map=game.org_idx_map, guesses=game.guesses, guess='54', bulls_n_cows=(1, 0), digits=2, candidate_entropy=safe_log2(C), verbose=True)\n",
    "C, _, _ = guess_based_on_entropy(originals=game.originals, org_idx_map=game.org_idx_map, guesses=game.guesses, guess='12', bulls_n_cows=(0, 1), digits=2, candidate_entropy=safe_log2(C), verbose=True)\n",
    "C, _, _ = guess_based_on_entropy(originals=game.originals, org_idx_map=game.org_idx_map, guesses=game.guesses, guess='24', bulls_n_cows=(2, 0), digits=2, candidate_entropy=safe_log2(C), verbose=True)"
   ]
  },
  {
   "cell_type": "code",
   "execution_count": 5,
   "metadata": {},
   "outputs": [
    {
     "name": "stdout",
     "output_type": "stream",
     "text": [
      "\n",
      "💬 {'54': (1, 0)}\n",
      "🎯 ['04', '14', '24', '34', '50', '51', '52', '53', '56', '57', '58', '59', '64', '74', '84', '94']\n",
      "🎲 4.00B - 1.54B | 3.09P ('50')\n",
      "[('0.00B', {'54', '45'}), ('1.06B', {'12', '17', '38', '61', '09', '21', '92', '13', '72', '98', '83', '19', '02', '10', '79', '39', '27', '26', '87', '08', '07', '78', '06', '29', '86', '68', '60', '71', '30', '91', '23', '63', '01', '62', '93', '03', '69', '28', '80', '18', '90', '20', '36', '82', '97', '70', '89', '96', '16', '37', '67', '31', '32', '73', '76', '81'}), ('1.54B', {'41', '64', '43', '24', '48', '75', '51', '58', '49', '57', '14', '15', '85', '52', '40', '65', '35', '50', '46', '84', '59', '95', '34', '42', '04', '94', '47', '53', '25', '74', '56', '05'})]\n",
      "\n",
      "💬 {'54': (1, 0), '12': (0, 1)}\n",
      "🎯 ['24', '51']\n",
      "🎲 1.00B - 1.00B | 2.87P ('24')\n",
      "[('0.00B', {'12', '38', '09', '21', '98', '83', '79', '39', '87', '08', '07', '78', '06', '86', '68', '60', '45', '30', '63', '54', '03', '69', '93', '80', '90', '97', '36', '70', '96', '37', '67', '73', '76', '89'}), ('1.00B', {'17', '41', '61', '92', '64', '13', '72', '19', '02', '10', '43', '24', '27', '26', '48', '75', '29', '51', '58', '49', '71', '57', '14', '91', '15', '23', '01', '62', '85', '52', '40', '65', '35', '50', '46', '84', '28', '59', '18', '20', '82', '95', '16', '31', '34', '42', '04', '32', '94', '47', '53', '25', '81', '74', '56', '05'})]\n",
      "\n",
      "💬 {'54': (1, 0), '12': (0, 1), '24': (2, 0)}\n",
      "🎯 ['24']\n"
     ]
    }
   ],
   "source": [
    "game = BullsNCows(digits=2)\n",
    "C = len(game.originals)\n",
    "C, _, _ = guess_based_on_candidates(originals=game.originals, org_idx_map=game.org_idx_map, guesses=game.guesses, guess='54', bulls_n_cows=(1, 0), digits=2, candidate_entropy=safe_log2(C), verbose=True)\n",
    "C, _, _ = guess_based_on_candidates(originals=game.originals, org_idx_map=game.org_idx_map, guesses=game.guesses, guess='12', bulls_n_cows=(0, 1), digits=2, candidate_entropy=safe_log2(C), verbose=True)\n",
    "C, _, _ = guess_based_on_candidates(originals=game.originals, org_idx_map=game.org_idx_map, guesses=game.guesses, guess='24', bulls_n_cows=(2, 0), digits=2, candidate_entropy=safe_log2(C), verbose=True)"
   ]
  },
  {
   "cell_type": "code",
   "execution_count": 6,
   "metadata": {},
   "outputs": [
    {
     "name": "stdout",
     "output_type": "stream",
     "text": [
      "6521\n"
     ]
    },
    {
     "data": {
      "text/html": [
       "<div>\n",
       "<style scoped>\n",
       "    .dataframe tbody tr th:only-of-type {\n",
       "        vertical-align: middle;\n",
       "    }\n",
       "\n",
       "    .dataframe tbody tr th {\n",
       "        vertical-align: top;\n",
       "    }\n",
       "\n",
       "    .dataframe thead th {\n",
       "        text-align: right;\n",
       "    }\n",
       "</style>\n",
       "<table border=\"1\" class=\"dataframe\">\n",
       "  <thead>\n",
       "    <tr style=\"text-align: right;\">\n",
       "      <th></th>\n",
       "      <th>guess</th>\n",
       "      <th>guess_result</th>\n",
       "      <th>candidate_count</th>\n",
       "      <th>candidate_entropy</th>\n",
       "      <th>guess_actual_entropy</th>\n",
       "      <th>best_guess_entropy</th>\n",
       "      <th>best_guess</th>\n",
       "    </tr>\n",
       "  </thead>\n",
       "  <tbody>\n",
       "    <tr>\n",
       "      <th>0</th>\n",
       "      <td></td>\n",
       "      <td></td>\n",
       "      <td>5040</td>\n",
       "      <td>12.299208</td>\n",
       "      <td>NaN</td>\n",
       "      <td>NaN</td>\n",
       "      <td>7563</td>\n",
       "    </tr>\n",
       "    <tr>\n",
       "      <th>1</th>\n",
       "      <td>7563</td>\n",
       "      <td>(1, 1)</td>\n",
       "      <td>720</td>\n",
       "      <td>9.491853</td>\n",
       "      <td>2.807355</td>\n",
       "      <td>2.946146</td>\n",
       "      <td>0153</td>\n",
       "    </tr>\n",
       "    <tr>\n",
       "      <th>2</th>\n",
       "      <td>0153</td>\n",
       "      <td>(0, 2)</td>\n",
       "      <td>165</td>\n",
       "      <td>7.366322</td>\n",
       "      <td>2.125531</td>\n",
       "      <td>3.317991</td>\n",
       "      <td>6512</td>\n",
       "    </tr>\n",
       "    <tr>\n",
       "      <th>3</th>\n",
       "      <td>6512</td>\n",
       "      <td>(2, 2)</td>\n",
       "      <td>2</td>\n",
       "      <td>1.000000</td>\n",
       "      <td>6.366322</td>\n",
       "      <td>1.000000</td>\n",
       "      <td>2516</td>\n",
       "    </tr>\n",
       "    <tr>\n",
       "      <th>4</th>\n",
       "      <td>2516</td>\n",
       "      <td>(1, 3)</td>\n",
       "      <td>1</td>\n",
       "      <td>0.000000</td>\n",
       "      <td>1.000000</td>\n",
       "      <td>NaN</td>\n",
       "      <td>6521</td>\n",
       "    </tr>\n",
       "    <tr>\n",
       "      <th>5</th>\n",
       "      <td>6521</td>\n",
       "      <td>(4, 0)</td>\n",
       "      <td>1</td>\n",
       "      <td>0.000000</td>\n",
       "      <td>0.000000</td>\n",
       "      <td>NaN</td>\n",
       "      <td>6521</td>\n",
       "    </tr>\n",
       "  </tbody>\n",
       "</table>\n",
       "</div>"
      ],
      "text/plain": [
       "  guess guess_result  candidate_count  candidate_entropy  \\\n",
       "0                                5040          12.299208   \n",
       "1  7563       (1, 1)              720           9.491853   \n",
       "2  0153       (0, 2)              165           7.366322   \n",
       "3  6512       (2, 2)                2           1.000000   \n",
       "4  2516       (1, 3)                1           0.000000   \n",
       "5  6521       (4, 0)                1           0.000000   \n",
       "\n",
       "   guess_actual_entropy  best_guess_entropy best_guess  \n",
       "0                   NaN                 NaN       7563  \n",
       "1              2.807355            2.946146       0153  \n",
       "2              2.125531            3.317991       6512  \n",
       "3              6.366322            1.000000       2516  \n",
       "4              1.000000                 NaN       6521  \n",
       "5              0.000000                 NaN       6521  "
      ]
     },
     "execution_count": 6,
     "metadata": {},
     "output_type": "execute_result"
    }
   ],
   "source": [
    "df = BullsNCows(digits=4, guess_algorithm=guess_based_on_score, verbose=False).play(); df"
   ]
  },
  {
   "cell_type": "code",
   "execution_count": null,
   "metadata": {},
   "outputs": [],
   "source": []
  }
 ],
 "metadata": {
  "kernelspec": {
   "display_name": "Python 3",
   "language": "python",
   "name": "python3"
  },
  "language_info": {
   "codemirror_mode": {
    "name": "ipython",
    "version": 3
   },
   "file_extension": ".py",
   "mimetype": "text/x-python",
   "name": "python",
   "nbconvert_exporter": "python",
   "pygments_lexer": "ipython3",
   "version": "3.10.13"
  }
 },
 "nbformat": 4,
 "nbformat_minor": 2
}

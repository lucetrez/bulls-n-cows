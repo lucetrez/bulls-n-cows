{
 "cells": [
  {
   "cell_type": "code",
   "execution_count": 18,
   "metadata": {},
   "outputs": [],
   "source": [
    "from v0.game import BullsNCows\n",
    "from v0.tools import (\n",
    "    safe_log2,\n",
    "    guess_based_on_score,\n",
    "    guess_based_on_entropy,\n",
    "    guess_based_on_candidates,\n",
    ")"
   ]
  },
  {
   "cell_type": "code",
   "execution_count": 20,
   "metadata": {},
   "outputs": [
    {
     "name": "stdout",
     "output_type": "stream",
     "text": [
      "\n",
      "💬 {'54': (1, 0)}\n",
      "🎯 ['04', '14', '24', '34', '50', '51', '52', '53', '56', '57', '58', '59', '64', '74', '84', '94']\n",
      "🎲 4.00B - 1.54B|3.09P ('04')\n",
      "[('3.09P', {'94', '50', '57', '59', '04', '14', '24', '53', '64', '84', '58', '74', '56', '52', '34', '51'}), ('3.22P', {'95', '48', '41', '35', '42', '47', '40', '15', '05', '85', '46', '43', '49', '65', '25', '75'}), ('3.33P', {'30', '62', '87', '26', '60', '78', '18', '01', '61', '92', '21', '12', '97', '06', '28', '67', '81', '23', '36', '90', '83', '63', '09', '70', '27', '73', '68', '03', '02', '20', '69', '10', '37', '08', '31', '93', '07', '29', '76', '98', '16', '86', '38', '80', '32', '39', '19', '79', '82', '91', '71', '89', '17', '72', '13', '96'}), ('3.55P', {'54', '45'})]\n",
      "\n",
      "💬 {'54': (1, 0), '12': (0, 1)}\n",
      "🎯 ['24', '51']\n",
      "🎲 1.00B - 1.00B|2.87P ('24')\n",
      "[('2.87P', {'24', '51'}), ('3.73P', {'62', '26', '15', '53', '58', '18', '01', '65', '85', '61', '52', '92', '50', '28', '46', '74', '81', '23', '59', '27', '34', '94', '02', '20', '04', '10', '48', '31', '35', '47', '29', '05', '64', '84', '49', '16', '75', '57', '32', '95', '41', '19', '42', '82', '40', '91', '71', '17', '72', '43', '56', '13', '25', '14'}), ('4.00P', {'30', '45', '87', '60', '78', '21', '12', '97', '06', '67', '36', '90', '83', '63', '09', '70', '73', '68', '03', '93', '69', '37', '08', '07', '54', '76', '98', '86', '38', '80', '39', '79', '89', '96'})]\n",
      "\n",
      "💬 {'54': (1, 0), '12': (0, 1), '24': (2, 0)}\n",
      "🎯 ['24']\n"
     ]
    }
   ],
   "source": [
    "game = BullsNCows(digits=2)\n",
    "C = len(game.originals)\n",
    "C, _, _ = guess_based_on_score(originals=game.originals, org_idx_map=game.org_idx_map, guesses=game.guesses, guess='54', bulls_n_cows=(1, 0), digits=2, candidate_entropy=safe_log2(C), verbose=True)\n",
    "C, _, _ = guess_based_on_score(originals=game.originals, org_idx_map=game.org_idx_map, guesses=game.guesses, guess='12', bulls_n_cows=(0, 1), digits=2, candidate_entropy=safe_log2(C), verbose=True)\n",
    "C, _, _ = guess_based_on_score(originals=game.originals, org_idx_map=game.org_idx_map, guesses=game.guesses, guess='24', bulls_n_cows=(2, 0), digits=2, candidate_entropy=safe_log2(C), verbose=True)"
   ]
  },
  {
   "cell_type": "code",
   "execution_count": 21,
   "metadata": {},
   "outputs": [
    {
     "name": "stdout",
     "output_type": "stream",
     "text": [
      "\n",
      "💬 {'54': (1, 0)}\n",
      "🎯 ['04', '14', '24', '34', '50', '51', '52', '53', '56', '57', '58', '59', '64', '74', '84', '94']\n",
      "🎲 4.00B - 1.54B|3.09P ('04')\n",
      "[('0.00B', {'54', '45'}), ('1.06B', {'30', '62', '87', '26', '60', '78', '18', '01', '61', '92', '21', '12', '97', '06', '28', '67', '81', '23', '36', '90', '83', '63', '09', '70', '27', '73', '68', '03', '02', '20', '69', '10', '37', '08', '31', '93', '07', '29', '76', '98', '16', '86', '38', '80', '32', '39', '19', '79', '82', '91', '71', '89', '17', '72', '13', '96'}), ('1.54B', {'24', '15', '53', '58', '65', '85', '52', '51', '50', '46', '74', '59', '34', '94', '04', '48', '35', '47', '05', '64', '84', '49', '75', '57', '95', '41', '42', '40', '43', '56', '25', '14'})]\n",
      "\n",
      "💬 {'54': (1, 0), '12': (0, 1)}\n",
      "🎯 ['24', '51']\n",
      "🎲 1.00B - 1.00B|3.73P ('01')\n",
      "[('0.00B', {'30', '45', '87', '60', '78', '21', '12', '97', '06', '67', '36', '90', '83', '63', '09', '70', '73', '68', '03', '93', '69', '37', '08', '07', '54', '76', '98', '86', '38', '80', '39', '79', '89', '96'}), ('1.00B', {'62', '26', '24', '15', '53', '58', '18', '01', '65', '85', '61', '51', '52', '92', '50', '28', '46', '74', '81', '23', '59', '27', '34', '94', '02', '20', '04', '10', '48', '31', '35', '47', '29', '05', '64', '84', '49', '16', '75', '57', '32', '95', '41', '19', '42', '82', '40', '91', '71', '17', '72', '43', '56', '13', '25', '14'})]\n",
      "\n",
      "💬 {'54': (1, 0), '12': (0, 1), '24': (2, 0)}\n",
      "🎯 ['24']\n"
     ]
    }
   ],
   "source": [
    "game = BullsNCows(digits=2)\n",
    "C = len(game.originals)\n",
    "C, _, _ = guess_based_on_entropy(originals=game.originals, org_idx_map=game.org_idx_map, guesses=game.guesses, guess='54', bulls_n_cows=(1, 0), digits=2, candidate_entropy=safe_log2(C), verbose=True)\n",
    "C, _, _ = guess_based_on_entropy(originals=game.originals, org_idx_map=game.org_idx_map, guesses=game.guesses, guess='12', bulls_n_cows=(0, 1), digits=2, candidate_entropy=safe_log2(C), verbose=True)\n",
    "C, _, _ = guess_based_on_entropy(originals=game.originals, org_idx_map=game.org_idx_map, guesses=game.guesses, guess='24', bulls_n_cows=(2, 0), digits=2, candidate_entropy=safe_log2(C), verbose=True)"
   ]
  },
  {
   "cell_type": "code",
   "execution_count": 22,
   "metadata": {},
   "outputs": [
    {
     "name": "stdout",
     "output_type": "stream",
     "text": [
      "\n",
      "💬 {'54': (1, 0)}\n",
      "🎯 ['04', '14', '24', '34', '50', '51', '52', '53', '56', '57', '58', '59', '64', '74', '84', '94']\n",
      "🎲 4.00B - 1.54B|3.09P ('51')\n",
      "[('0.00B', {'54', '45'}), ('1.06B', {'30', '62', '87', '26', '60', '78', '18', '01', '61', '92', '21', '12', '97', '06', '28', '67', '81', '23', '36', '90', '83', '63', '09', '70', '27', '73', '68', '03', '02', '20', '69', '10', '37', '08', '31', '93', '07', '29', '76', '98', '16', '86', '38', '80', '32', '39', '19', '79', '82', '91', '71', '89', '17', '72', '13', '96'}), ('1.54B', {'24', '15', '53', '58', '65', '85', '52', '51', '50', '46', '74', '59', '34', '94', '04', '48', '35', '47', '05', '64', '84', '49', '75', '57', '95', '41', '42', '40', '43', '56', '25', '14'})]\n",
      "\n",
      "💬 {'54': (1, 0), '12': (0, 1)}\n",
      "🎯 ['24', '51']\n",
      "🎲 1.00B - 1.00B|2.87P ('24')\n",
      "[('0.00B', {'30', '45', '87', '60', '78', '21', '12', '97', '06', '67', '36', '90', '83', '63', '09', '70', '73', '68', '03', '93', '69', '37', '08', '07', '54', '76', '98', '86', '38', '80', '39', '79', '89', '96'}), ('1.00B', {'62', '26', '24', '15', '53', '58', '18', '01', '65', '85', '61', '51', '52', '92', '50', '28', '46', '74', '81', '23', '59', '27', '34', '94', '02', '20', '04', '10', '48', '31', '35', '47', '29', '05', '64', '84', '49', '16', '75', '57', '32', '95', '41', '19', '42', '82', '40', '91', '71', '17', '72', '43', '56', '13', '25', '14'})]\n",
      "\n",
      "💬 {'54': (1, 0), '12': (0, 1), '24': (2, 0)}\n",
      "🎯 ['24']\n"
     ]
    }
   ],
   "source": [
    "game = BullsNCows(digits=2)\n",
    "C = len(game.originals)\n",
    "C, _, _ = guess_based_on_candidates(originals=game.originals, org_idx_map=game.org_idx_map, guesses=game.guesses, guess='54', bulls_n_cows=(1, 0), digits=2, candidate_entropy=safe_log2(C), verbose=True)\n",
    "C, _, _ = guess_based_on_candidates(originals=game.originals, org_idx_map=game.org_idx_map, guesses=game.guesses, guess='12', bulls_n_cows=(0, 1), digits=2, candidate_entropy=safe_log2(C), verbose=True)\n",
    "C, _, _ = guess_based_on_candidates(originals=game.originals, org_idx_map=game.org_idx_map, guesses=game.guesses, guess='24', bulls_n_cows=(2, 0), digits=2, candidate_entropy=safe_log2(C), verbose=True)"
   ]
  },
  {
   "cell_type": "code",
   "execution_count": 23,
   "metadata": {},
   "outputs": [
    {
     "name": "stdout",
     "output_type": "stream",
     "text": [
      "9184\n"
     ]
    },
    {
     "data": {
      "text/html": [
       "<div>\n",
       "<style scoped>\n",
       "    .dataframe tbody tr th:only-of-type {\n",
       "        vertical-align: middle;\n",
       "    }\n",
       "\n",
       "    .dataframe tbody tr th {\n",
       "        vertical-align: top;\n",
       "    }\n",
       "\n",
       "    .dataframe thead th {\n",
       "        text-align: right;\n",
       "    }\n",
       "</style>\n",
       "<table border=\"1\" class=\"dataframe\">\n",
       "  <thead>\n",
       "    <tr style=\"text-align: right;\">\n",
       "      <th></th>\n",
       "      <th>guess</th>\n",
       "      <th>guess_result</th>\n",
       "      <th>candidate_count</th>\n",
       "      <th>candidate_entropy</th>\n",
       "      <th>guess_actual_entropy</th>\n",
       "      <th>best_guess_entropy</th>\n",
       "      <th>best_guess</th>\n",
       "    </tr>\n",
       "  </thead>\n",
       "  <tbody>\n",
       "    <tr>\n",
       "      <th>0</th>\n",
       "      <td></td>\n",
       "      <td></td>\n",
       "      <td>5040</td>\n",
       "      <td>12.299208</td>\n",
       "      <td>NaN</td>\n",
       "      <td>NaN</td>\n",
       "      <td>7351</td>\n",
       "    </tr>\n",
       "    <tr>\n",
       "      <th>1</th>\n",
       "      <td>7351</td>\n",
       "      <td>(0, 1)</td>\n",
       "      <td>1440</td>\n",
       "      <td>10.491853</td>\n",
       "      <td>1.807355</td>\n",
       "      <td>2.858865</td>\n",
       "      <td>0124</td>\n",
       "    </tr>\n",
       "    <tr>\n",
       "      <th>2</th>\n",
       "      <td>0124</td>\n",
       "      <td>(2, 0)</td>\n",
       "      <td>57</td>\n",
       "      <td>5.832890</td>\n",
       "      <td>4.658963</td>\n",
       "      <td>3.108596</td>\n",
       "      <td>1684</td>\n",
       "    </tr>\n",
       "    <tr>\n",
       "      <th>3</th>\n",
       "      <td>1684</td>\n",
       "      <td>(2, 1)</td>\n",
       "      <td>1</td>\n",
       "      <td>0.000000</td>\n",
       "      <td>5.832890</td>\n",
       "      <td>NaN</td>\n",
       "      <td>9184</td>\n",
       "    </tr>\n",
       "    <tr>\n",
       "      <th>4</th>\n",
       "      <td>9184</td>\n",
       "      <td>(4, 0)</td>\n",
       "      <td>1</td>\n",
       "      <td>0.000000</td>\n",
       "      <td>0.000000</td>\n",
       "      <td>NaN</td>\n",
       "      <td>9184</td>\n",
       "    </tr>\n",
       "  </tbody>\n",
       "</table>\n",
       "</div>"
      ],
      "text/plain": [
       "  guess guess_result  candidate_count  candidate_entropy  \\\n",
       "0                                5040          12.299208   \n",
       "1  7351       (0, 1)             1440          10.491853   \n",
       "2  0124       (2, 0)               57           5.832890   \n",
       "3  1684       (2, 1)                1           0.000000   \n",
       "4  9184       (4, 0)                1           0.000000   \n",
       "\n",
       "   guess_actual_entropy  best_guess_entropy best_guess  \n",
       "0                   NaN                 NaN       7351  \n",
       "1              1.807355            2.858865       0124  \n",
       "2              4.658963            3.108596       1684  \n",
       "3              5.832890                 NaN       9184  \n",
       "4              0.000000                 NaN       9184  "
      ]
     },
     "execution_count": 23,
     "metadata": {},
     "output_type": "execute_result"
    }
   ],
   "source": [
    "df = BullsNCows(digits=4, guess_algorithm=guess_based_on_score, verbose=False).play(); df"
   ]
  },
  {
   "cell_type": "code",
   "execution_count": null,
   "metadata": {},
   "outputs": [],
   "source": []
  }
 ],
 "metadata": {
  "kernelspec": {
   "display_name": "Python 3",
   "language": "python",
   "name": "python3"
  },
  "language_info": {
   "codemirror_mode": {
    "name": "ipython",
    "version": 3
   },
   "file_extension": ".py",
   "mimetype": "text/x-python",
   "name": "python",
   "nbconvert_exporter": "python",
   "pygments_lexer": "ipython3",
   "version": "3.10.13"
  }
 },
 "nbformat": 4,
 "nbformat_minor": 2
}
